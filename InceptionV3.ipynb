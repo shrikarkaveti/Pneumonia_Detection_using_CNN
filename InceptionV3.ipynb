{
  "cells": [
    {
      "cell_type": "code",
      "execution_count": 1,
      "metadata": {
        "id": "BgILx_0LoNvF"
      },
      "outputs": [],
      "source": [
        "import numpy as np\n",
        "import pandas as pd\n",
        "from PIL import Image\n",
        "import os"
      ]
    },
    {
      "cell_type": "code",
      "execution_count": 2,
      "metadata": {
        "id": "JiaMjLNWoiNM"
      },
      "outputs": [],
      "source": [
        "%matplotlib inline\n",
        "import matplotlib.pyplot as plt\n",
        "import seaborn as sns\n",
        "import tensorflow\n",
        "from tensorflow import keras\n",
        "from keras.models import Sequential\n",
        "from keras.layers import Dense, Conv2D, MaxPool2D, Flatten, Dropout, BatchNormalization\n",
        "from keras.preprocessing.image import ImageDataGenerator\n",
        "from sklearn.model_selection import train_test_split\n",
        "from sklearn.metrics import classification_report, confusion_matrix\n",
        "from keras.callbacks import ReduceLROnPlateau\n",
        "import cv2\n",
        "import os"
      ]
    },
    {
      "cell_type": "code",
      "execution_count": 3,
      "metadata": {
        "id": "Rm3F-3lVpr5V"
      },
      "outputs": [],
      "source": [
        "labels = ['PNEUMONIA', 'NORMAL']\n",
        "img_size = 224\n",
        "def get_training_data(data_dir):\n",
        "    data = [] \n",
        "    for label in labels: \n",
        "        path = os.path.join(data_dir, label)\n",
        "        class_num = labels.index(label)\n",
        "        for img in os.listdir(path):\n",
        "            try:\n",
        "                img_arr = cv2.imread(os.path.join(path, img))\n",
        "                resized_arr = cv2.resize(img_arr, (img_size, img_size))\n",
        "                data.append([resized_arr, class_num])\n",
        "            except Exception as e:\n",
        "                print(e)\n",
        "    print(np.array(resized_arr, dtype=object).shape)\n",
        "    #print(len(resized_arr))\n",
        "    return np.array(data, dtype=object)"
      ]
    },
    {
      "cell_type": "code",
      "execution_count": null,
      "metadata": {
        "id": "YSJ2mt5Xpx28"
      },
      "outputs": [],
      "source": [
        "train = get_training_data('/content/drive/MyDrive/Input/train')\n",
        "test = get_training_data('/content/drive/MyDrive/Input/test')\n",
        "val = get_training_data('/content/drive/MyDrive/Input/val')"
      ]
    },
    {
      "cell_type": "code",
      "execution_count": null,
      "metadata": {
        "id": "-ku9Yf6_pzlM"
      },
      "outputs": [],
      "source": [
        "l = []\n",
        "for i in train:\n",
        "    if(i[1] == 0):\n",
        "        l.append(\"Pneumonia\")\n",
        "    else:\n",
        "        l.append(\"Normal\")\n",
        "sns.set_style('darkgrid')\n",
        "sns.countplot(y = l)"
      ]
    },
    {
      "cell_type": "code",
      "execution_count": null,
      "metadata": {
        "id": "dne4wxPap2KF"
      },
      "outputs": [],
      "source": [
        "plt.figure(figsize = (5,5))\n",
        "plt.imshow(train[0][0], cmap='gray')\n",
        "plt.title(labels[train[0][1]])\n",
        "\n",
        "plt.figure(figsize = (5,5))\n",
        "plt.imshow(train[-1][0], cmap='gray')\n",
        "plt.title(labels[train[-1][1]])"
      ]
    },
    {
      "cell_type": "code",
      "execution_count": null,
      "metadata": {
        "id": "Fo8iDlZNp34m"
      },
      "outputs": [],
      "source": [
        "x_train = []\n",
        "y_train = []\n",
        "\n",
        "x_val = []\n",
        "y_val = []\n",
        "\n",
        "x_test = []\n",
        "y_test = []\n",
        "\n",
        "for feature, label in train:\n",
        "    x_train.append(feature)\n",
        "    y_train.append(label)\n",
        "\n",
        "for feature, label in test:\n",
        "    x_test.append(feature)\n",
        "    y_test.append(label)\n",
        "    \n",
        "for feature, label in val:\n",
        "    x_val.append(feature)\n",
        "    y_val.append(label)\n",
        "\n",
        "x_train = np.array(x_train) / 255\n",
        "x_val = np.array(x_val) / 255\n",
        "x_test = np.array(x_test) / 255"
      ]
    },
    {
      "cell_type": "code",
      "execution_count": null,
      "metadata": {
        "id": "6mvV10y3qDpN"
      },
      "outputs": [],
      "source": [
        "x_train = x_train.reshape(-1, img_size, img_size, 3)\n",
        "y_train = np.array(y_train)\n",
        "\n",
        "x_val = x_val.reshape(-1, img_size, img_size, 3)\n",
        "y_val = np.array(y_val)\n",
        "\n",
        "x_test = x_test.reshape(-1, img_size, img_size, 3)\n",
        "y_test = np.array(y_test)\n",
        "\n",
        "datagen = ImageDataGenerator(\n",
        "        featurewise_center = False,  # Set Input Mean to 0 over the Dataset\n",
        "        samplewise_center = False,  # Set each Sample Mean to 0\n",
        "        featurewise_std_normalization = False,  # Divide Inputs by Std of the Dataset\n",
        "        samplewise_std_normalization = False,  # Divide each Input by its std\n",
        "        zca_whitening = False,  # Apply ZCA Whitening\n",
        "        rotation_range = 30,  # Randomly rotate Images in the range (degrees, 0 to 180)\n",
        "        zoom_range = 0.2, # Randomly zoom Image \n",
        "        width_shift_range = 0.1,  # Randomly shift Images horizontally (fraction of total width)\n",
        "        height_shift_range = 0.1,  # Randomly shift Images vertically (fraction of total height)\n",
        "        horizontal_flip = True,  # Randomly horizontal flip images\n",
        "        vertical_flip = False)  # Randomly vertical flip images\n",
        "\n",
        "\n",
        "datagen.fit(x_train)\n"
      ]
    },
    {
      "cell_type": "code",
      "execution_count": null,
      "metadata": {
        "id": "7FSFWdL2p58V"
      },
      "outputs": [],
      "source": [
        "from keras.applications import InceptionV3\n",
        "\n",
        "pre_trained_model = InceptionV3(input_shape = (224, 224, 3), include_top = False, weights = 'imagenet')\n",
        "\n",
        "pre_trained_model.trainable = False\n",
        "\n",
        "x = tensorflow.keras.layers.Flatten()(pre_trained_model.output)\n",
        "x = tensorflow.keras.layers.Dense(1024,activation='relu')(x)\n",
        "x = tensorflow.keras.layers.Dropout(0.2)(x)\n",
        "x = tensorflow.keras.layers.Dense (1,activation='sigmoid')(x)\n",
        "\n",
        "model= tensorflow.keras.Model(pre_trained_model.input,x)\n",
        "\n",
        "model.compile(optimizer='rmsprop',loss='binary_crossentropy',metrics=['accuracy'])"
      ]
    },
    {
      "cell_type": "code",
      "execution_count": null,
      "metadata": {
        "id": "YkNMXsmCqVU7"
      },
      "outputs": [],
      "source": [
        "learning_rate_reduction = ReduceLROnPlateau(monitor='val_accuracy', patience = 2, verbose=1, factor=0.3, min_lr=0.000001)\n",
        "print(len(x_train))\n",
        "print(len(y_train))"
      ]
    },
    {
      "cell_type": "code",
      "execution_count": null,
      "metadata": {
        "id": "_6nlXDKUqV2k"
      },
      "outputs": [],
      "source": [
        "history = model.fit(datagen.flow(x_train, y_train, batch_size = 32), epochs = 12 , validation_data = datagen.flow(x_val, y_val), callbacks = [learning_rate_reduction])"
      ]
    },
    {
      "cell_type": "code",
      "execution_count": null,
      "metadata": {
        "id": "dPuLUknhqX1D"
      },
      "outputs": [],
      "source": [
        "print(\"Loss of the model is - \", model.evaluate(x_test, y_test)[0])\n",
        "print(\"Accuracy of the model is - \", model.evaluate(x_test, y_test)[1] * 100, '%')\n",
        "#model.save('/content/drive/MyDrive/Colab Notebooks/Custom')"
      ]
    },
    {
      "cell_type": "code",
      "execution_count": null,
      "metadata": {
        "id": "o9ORJJT8qZO1"
      },
      "outputs": [],
      "source": [
        "epochs = [i for i in range(12)]\n",
        "fig, ax = plt.subplots(1, 2)\n",
        "train_acc = history.history['accuracy']\n",
        "train_loss = history.history['loss']\n",
        "val_acc = history.history['val_accuracy']\n",
        "val_loss = history.history['val_loss']\n",
        "fig.set_size_inches(20, 10)\n",
        "\n",
        "ax[0].plot(epochs, train_acc, 'go-', label = 'Training Accuracy')\n",
        "ax[0].plot(epochs, val_acc, 'ro-', label = 'Validation Accuracy')\n",
        "ax[0].set_title('Training & Validation Accuracy')\n",
        "ax[0].legend()\n",
        "ax[0].set_xlabel(\"Epochs\")\n",
        "ax[0].set_ylabel(\"Accuracy\")\n",
        "\n",
        "ax[1].plot(epochs, train_loss, 'g-o', label = 'Training Loss')\n",
        "ax[1].plot(epochs, val_loss, 'r-o', label = 'Validation Loss')\n",
        "ax[1].set_title('Testing Accuracy & Loss')\n",
        "ax[1].legend()\n",
        "ax[1].set_xlabel(\"Epochs\")\n",
        "ax[1].set_ylabel(\"Training & Validation Loss\")\n",
        "plt.show()"
      ]
    },
    {
      "cell_type": "code",
      "execution_count": null,
      "metadata": {
        "id": "Sv50l-t1qdhk"
      },
      "outputs": [],
      "source": [
        "predictions = (model.predict(x_test) > 0.5).astype(\"int32\")\n",
        "predictions = predictions.reshape(1, -1)[0]\n",
        "predictions[:15]"
      ]
    },
    {
      "cell_type": "code",
      "execution_count": null,
      "metadata": {
        "id": "Jl8PEw5jqfG8"
      },
      "outputs": [],
      "source": [
        "print(classification_report(y_test, predictions, target_names = ['Pneumonia (Class 0)', 'Normal (Class 1)']))"
      ]
    },
    {
      "cell_type": "code",
      "execution_count": null,
      "metadata": {
        "id": "mAu_a4KzqgxL"
      },
      "outputs": [],
      "source": [
        "cm = confusion_matrix(y_test, predictions)\n",
        "print(cm)"
      ]
    },
    {
      "cell_type": "code",
      "execution_count": null,
      "metadata": {
        "id": "i9LFdG0CqiNq"
      },
      "outputs": [],
      "source": [
        "cm = pd.DataFrame(cm , index = ['0', '1'], columns = ['0', '1'])"
      ]
    },
    {
      "cell_type": "code",
      "execution_count": null,
      "metadata": {
        "id": "g6GLfM7BqkaC"
      },
      "outputs": [],
      "source": [
        "plt.figure(figsize = (10, 10))\n",
        "sns.heatmap(cm,cmap= \"Blues\", linecolor = 'black', linewidth = 1, annot = True, fmt='', xticklabels = labels, yticklabels = labels)"
      ]
    },
    {
      "cell_type": "code",
      "execution_count": null,
      "metadata": {
        "id": "ysJl1024qmRh"
      },
      "outputs": [],
      "source": [
        "correct = np.nonzero(predictions == y_test)[0]\n",
        "incorrect = np.nonzero(predictions != y_test)[0]"
      ]
    },
    {
      "cell_type": "code",
      "execution_count": null,
      "metadata": {
        "id": "YbVDKLyVqp2C"
      },
      "outputs": [],
      "source": [
        "i = 0\n",
        "for c in correct[:6]:\n",
        "    plt.subplot(3, 2, i+1)\n",
        "    plt.xticks([])\n",
        "    plt.yticks([])\n",
        "    plt.imshow(x_test[c].reshape(224, 224, 3), interpolation='none')\n",
        "    plt.title(\"Predicted Class {},Actual Class {}\".format(predictions[c], y_test[c]))\n",
        "    plt.tight_layout()\n",
        "    i += 1"
      ]
    },
    {
      "cell_type": "code",
      "execution_count": null,
      "metadata": {
        "colab": {
          "background_save": true
        },
        "id": "b0KsEixMqsPz"
      },
      "outputs": [],
      "source": [
        "i = 0\n",
        "for c in incorrect[:6]:\n",
        "    plt.subplot(3, 2, i+1)\n",
        "    plt.xticks([])\n",
        "    plt.yticks([])\n",
        "    plt.imshow(x_test[c].reshape(224, 224, 3), interpolation='none')\n",
        "    plt.title(\"Predicted Class {},Actual Class {}\".format(predictions[c], y_test[c]))\n",
        "    plt.tight_layout()\n",
        "    i += 1"
      ]
    }
  ],
  "metadata": {
    "accelerator": "GPU",
    "colab": {
      "provenance": []
    },
    "gpuClass": "standard",
    "kernelspec": {
      "display_name": "Python 3",
      "name": "python3"
    },
    "language_info": {
      "name": "python"
    }
  },
  "nbformat": 4,
  "nbformat_minor": 0
}